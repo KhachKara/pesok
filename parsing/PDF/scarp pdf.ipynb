{
 "cells": [
  {
   "cell_type": "code",
   "execution_count": 9,
   "metadata": {},
   "outputs": [
    {
     "name": "stdout",
     "output_type": "stream",
     "text": [
      "[TL('Документ сформирован'), TL('02.09.2019 10:35:44 через личный кабинет'), TL('*Всю подробную информацию о параметрах тарифных планов и условия предоставления дополнительных услуг Вы можете найти на*'), TL('*сайте*'), TL('*www.msk.tele2.ru*'), TL('*Теле2 Россия*'), TL('*www.msk.tele2.ru*'), TL('*Детализация предоставленных услуг*'), TL('Карапетян Хачатур Зорикович'), TL('Абонент:'), TL('Телефон:'), TL('79773895866'), TL('Период детализации:'), TL('01.08.2019 00:00:00 -'), TL('02.09.2019 23:59:59'), TL('*Примечание: Информация о предоставленных услугах появляется в детализации с задержкой до 4-х часов. Время местное.*'), TL('*Абонент:*'), TL('*Платежи и мобильные переводы*'), TL('*79773895866*'), TL('Дата и время'), TL('Тип платежа'), TL('22.08.2019 15:05:54'), TL('Платеж через платежные системы'), TL('*Абонентская плата и дополнительные услуги*'), TL('Дата и время'), TL('Название услуги'), TL('22.08.2019 15:06:04'), TL('25.08.2019 22:21:11'), TL('Начисление: (ПД) Мой разговор MO'), TL('Начисление: Переданные гигабайты'), TL('Сумма'), TL('200,00'), TL('200,00'), TL('Сумма к'), TL('оплате'), TL('200,00'), TL('0,00'), TL('Итого:'), TL('Тип начисления'), TL('Абонплата в месяц'), TL('Получение трафика'), TL('9Гб от 79773895899'), TL('Итого:'), TL('200,00'), TL('*Звонки, интернет, SMS- и MMS-сообщения*'), TL('Дата и время'), TL('Тарифный план'), TL('Тип соединения'), TL('Номер'), TL('Длительность'), TL('Длительность'), TL('в секундах'), TL('в минутах'), TL('Сумма к'), TL('оплате'), TL('10.08.2019 11:40:12'), TL('17.08.2019 23:14:15'), TL('17.08.2019 23:35:11'), TL('17.08.2019 23:35:29'), TL('18.08.2019 09:01:26'), TL('18.08.2019 09:01:36'), TL('18.08.2019 09:01:45'), TL('18.08.2019 09:01:48'), TL('18.08.2019 09:01:50'), TL('18.08.2019 11:31:28'), TL('18.08.2019 11:35:36'), TL('18.08.2019 11:35:46'), TL('18.08.2019 11:35:49'), TL('18.08.2019 11:35:58'), TL('18.08.2019 11:36:07'), TL('18.08.2019 11:45:25'), TL('18.08.2019 13:22:37'), TL('18.08.2019 13:23:16'), TL('18.08.2019 13:23:57'), TL('18.08.2019 14:07:14'), TL('18.08.2019 14:24:50'), TL('18.08.2019 14:27:06'), TL('18.08.2019 14:30:59'), TL('18.08.2019 14:33:33'), TL('18.08.2019 14:45:08'), TL('18.08.2019 14:46:37'), TL('18.08.2019 14:47:28'), TL('18.08.2019 14:53:28'), TL('18.08.2019 14:54:24'), TL('18.08.2019 17:00:25'), TL('18.08.2019 17:56:18'), TL('18.08.2019 19:08:15'), TL('18.08.2019 19:20:36'), TL('18.08.2019 19:42:55'), TL('19.08.2019 11:17:19'), TL('19.08.2019 12:42:13'), TL('За рубежом'), TL('Мой разговор'), TL('БВddddddddffffffffffffffff'), TL('БВddddddddffffffffffffffff'), TL('БВddddddddffffffffffffffff'), TL('БВddddddddffffffffffffffff'), TL('БВddddddddffffffffffffffff'), TL('БВddddddddffffffffffffffff'), TL('БВddddddddffffffffffffffff'), TL('Мой разговор'), TL('БВddddddddffffffffffffffff'), TL('БВddddddddffffffffffffffff'), TL('БВddddddddffffffffffffffff'), TL('БВddddddddffffffffffffffff'), TL('БВddddddddffffffffffffffff'), TL('БВddddddddffffffffffffffff'), TL('БВddddddddffffffffffffffff'), TL('БВddddddddffffffffffffffff'), TL('БВddddddddffffffffffffffff'), TL('БВddddddddffffffffffffffff'), TL('БВddddddddffffffffffffffff'), TL('БВddddddddffffffffffffffff'), TL('БВddddddddffffffffffffffff'), TL('БВddddddddffffffffffffffff'), TL('БВddddddddffffffffffffffff'), TL('БВddddddddffffffffffffffff'), TL('БВddddddddffffffffffffffff'), TL('БВddddddddffffffffffffffff'), TL('БВddddddddffffffffffffffff'), TL('БВddddddddffffffffffffffff'), TL('БВddddddddffffffffffffffff'), TL('БВddddddddffffffffffffffff'), TL('БВddddddddffffffffffffffff'), TL('Мой разговор'), TL('БВddddddddffffffffffffffff'), TL('БВddddddddffffffffffffffff'), TL('Входящий с Электросвязи'), TL('Исходящий на МТС'), TL('Входящее SMS'), TL('Входящее SMS'), TL('Входящее SMS'), TL('Входящее SMS'), TL('Входящее SMS'), TL('Входящее SMS'), TL('Входящее SMS'), TL('Исходящий на своего'), TL('Входящее SMS'), TL('Входящее SMS'), TL('Входящее SMS'), TL('Входящее SMS'), TL('Входящее SMS'), TL('Входящее SMS'), TL('Бесплатный входящий'), TL('Входящее SMS'), TL('Бесплатный входящий'), TL('Входящее SMS'), TL('Бесплатный входящий'), TL('Бесплатный входящий'), TL('Бесплатный входящий'), TL('Бесплатный входящий'), TL('Входящее SMS'), TL('Бесплатный входящий'), TL('Бесплатный входящий'), TL('Входящее SMS'), TL('Бесплатный входящий'), TL('Бесплатный входящий'), TL('Бесплатный входящий'), TL('Входящее SMS'), TL('Бесплатный входящий'), TL('Исходящий на своего'), TL('Бесплатный входящий'), TL('Бесплатный входящий'), TL('+37498282669'), TL('+79851813357'), TL('BeelineWiFi'), TL('BeelineWiFi'), TL('Tele2'), TL('Tele2'), TL('Tele2'), TL('Tele2'), TL('Tele2'), TL('+79253619759'), TL('Tele2'), TL('Tele2'), TL('Tele2'), TL('Tele2'), TL('Tele2'), TL('Tele2'), TL('+79779448654'), TL('+79779448654'), TL('+79779448654'), TL('+79014089970'), TL('+79779448654'), TL('+79779448654'), TL('+79779448654'), TL('+79779448654'), TL('+79779448654'), TL('+79779448654'), TL('+79779448654'), TL('+79779448654'), TL('+79779448654'), TL('+79779448654'), TL('+79647626157'), TL('+79851813357'), TL('+79773895899'), TL('+79779448654'), TL('+79773895899'), TL('+79851813357'), TL('23'), TL('32'), TL('0'), TL('0'), TL('0'), TL('0'), TL('0'), TL('0'), TL('0'), TL('44'), TL('0'), TL('0'), TL('0'), TL('0'), TL('0'), TL('0'), TL('0'), TL('0'), TL('119'), TL('0'), TL('0'), TL('0'), TL('0'), TL('21'), TL('0'), TL('0'), TL('36'), TL('0'), TL('23'), TL('12'), TL('0'), TL('0'), TL('25'), TL('15'), TL('34'), TL('0'), TL('01 :'), TL('01 :'), TL('00 :'), TL('00 :'), TL('00 :'), TL('00 :'), TL('00 :'), TL('00 :'), TL('00 :'), TL('01 :'), TL('00 :'), TL('00 :'), TL('00 :'), TL('00 :'), TL('00 :'), TL('00 :'), TL('00 :'), TL('00 :'), TL('01 :'), TL('00 :'), TL('00 :'), TL('00 :'), TL('00 :'), TL('00 :'), TL('00 :'), TL('00 :'), TL('00 :'), TL('00 :'), TL('00 :'), TL('00 :'), TL('00 :'), TL('00 :'), TL('00 :'), TL('01 :'), TL('00 :'), TL('00 :'), TL('00'), TL('00'), TL('00'), TL('00'), TL('00'), TL('00'), TL('00'), TL('00'), TL('00'), TL('00'), TL('00'), TL('00'), TL('00'), TL('00'), TL('00'), TL('00'), TL('00'), TL('00'), TL('59'), TL('00'), TL('00'), TL('00'), TL('00'), TL('21'), TL('00'), TL('00'), TL('36'), TL('00'), TL('23'), TL('12'), TL('00'), TL('00'), TL('25'), TL('00'), TL('34'), TL('00'), TL('15,00'), TL('1,95'), TL('0,00'), TL('0,00'), TL('0,00'), TL('0,00'), TL('0,00'), TL('0,00'), TL('0,00'), TL('1,95'), TL('0,00'), TL('0,00'), TL('0,00'), TL('0,00'), TL('0,00'), TL('0,00'), TL('0,00'), TL('0,00'), TL('0,00'), TL('0,00'), TL('0,00'), TL('0,00'), TL('0,00'), TL('0,00'), TL('0,00'), TL('0,00'), TL('0,00'), TL('0,00'), TL('0,00'), TL('0,00'), TL('0,00'), TL('0,00'), TL('0,00'), TL('1,95'), TL('0,00'), TL('0,00')]\n"
     ]
    },
    {
     "name": "stderr",
     "output_type": "stream",
     "text": [
      "C:\\Users\\Karapetian\\AppData\\Local\\Continuum\\anaconda3\\lib\\site-packages\\pdf2data\\pdf.py:183: UserWarning: Font name changed mid-line, from 'NSUBNQ+Tele2RussiaTextRegular' to 'NOGWFQ+Tele2RussiaTextRegular'. Using initial font name for line.\n",
      "  \"Font name changed mid-line, \"\n",
      "C:\\Users\\Karapetian\\AppData\\Local\\Continuum\\anaconda3\\lib\\site-packages\\pdf2data\\pdf.py:183: UserWarning: Font name changed mid-line, from 'NOGWFQ+Tele2RussiaTextRegular' to 'NSUBNQ+Tele2RussiaTextRegular'. Using initial font name for line.\n",
      "  \"Font name changed mid-line, \"\n"
     ]
    }
   ],
   "source": [
    "from pdfminer.pdfparser import PDFParser\n",
    "from pdfminer.pdfdocument import PDFDocument\n",
    "from pdfminer.layout import LAParams\n",
    "\n",
    "from pdf2data.pdf import *\n",
    "\n",
    "import PyPDF2 as p2\n",
    "source = 'Tele2-Details-2019-09-79773895866.pdf'\n",
    "\n",
    "\n",
    "def main():\n",
    "    with open(source, \"rb\") as pdf_fileobj:\n",
    "\n",
    "        document = PDFDocument(PDFParser(pdf_fileobj))\n",
    "        page_it = PageIterator(document, LAParams(char_margin=0.2))\n",
    "\n",
    "        #print(dir(page_it))\n",
    "        print(page_it.lines)\n",
    "\n",
    "\n",
    "if __name__ == \"__main__\":\n",
    "    main()"
   ]
  },
  {
   "cell_type": "code",
   "execution_count": null,
   "metadata": {},
   "outputs": [],
   "source": []
  }
 ],
 "metadata": {
  "kernelspec": {
   "display_name": "Python 3",
   "language": "python",
   "name": "python3"
  },
  "language_info": {
   "codemirror_mode": {
    "name": "ipython",
    "version": 3
   },
   "file_extension": ".py",
   "mimetype": "text/x-python",
   "name": "python",
   "nbconvert_exporter": "python",
   "pygments_lexer": "ipython3",
   "version": "3.7.3"
  }
 },
 "nbformat": 4,
 "nbformat_minor": 2
}
