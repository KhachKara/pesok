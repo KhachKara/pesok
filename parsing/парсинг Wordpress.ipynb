{
 "cells": [
  {
   "cell_type": "code",
   "execution_count": 2,
   "metadata": {},
   "outputs": [],
   "source": [
    "import requests\n",
    "from bs4 import BeautifulSoup\n",
    "import csv\n",
    "\n",
    "\n",
    "def get_html(url):\n",
    "    r = requests.get(url)\n",
    "    return r.text\n",
    "\n",
    "\n",
    "def write_csv(data):\n",
    "    with open('cmc_.csv', 'a') as f:\n",
    "        writer = csv.writer(f)\n",
    "\n",
    "        writer.writerow([data['name'],\n",
    "                         data['symbol'],\n",
    "                         data['url'],\n",
    "                         data['price']])\n",
    "\n",
    "\n",
    "def get_page_data(html):\n",
    "    soup = BeautifulSoup(html, 'lxml')\n",
    "\n",
    "    trs = soup.find('table', id='currencies').find('tbody').find_all('tr')\n",
    "\n",
    "    for tr in trs:\n",
    "        tds = tr.find_all('td')\n",
    "        name = tds[1].find('a', class_='currency-name-container').text\n",
    "        symbol = tds[1].find('a').text\n",
    "        url = 'https://coinmarketcap.com' + tds[1].find('a').get('href')\n",
    "        price = tds[3].find('a').get('data-usd')\n",
    "\n",
    "        data = {'name': name,\n",
    "                'symbol': symbol,\n",
    "                'url': url,\n",
    "                'price': price}\n",
    "\n",
    "        write_csv(data)\n",
    "\n",
    "\n",
    "\n",
    "def main():\n",
    "    url = 'https://coinmarketcap.com/'\n",
    "    get_page_data(get_html(url))\n",
    "\n",
    "\n",
    "if __name__ == '__main__':\n",
    "    main()\n"
   ]
  },
  {
   "cell_type": "code",
   "execution_count": null,
   "metadata": {},
   "outputs": [],
   "source": []
  }
 ],
 "metadata": {
  "kernelspec": {
   "display_name": "Python 3",
   "language": "python",
   "name": "python3"
  },
  "language_info": {
   "codemirror_mode": {
    "name": "ipython",
    "version": 3
   },
   "file_extension": ".py",
   "mimetype": "text/x-python",
   "name": "python",
   "nbconvert_exporter": "python",
   "pygments_lexer": "ipython3",
   "version": "3.7.3"
  }
 },
 "nbformat": 4,
 "nbformat_minor": 2
}
