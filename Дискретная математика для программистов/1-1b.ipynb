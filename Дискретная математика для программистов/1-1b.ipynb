{
 "cells": [
  {
   "cell_type": "code",
   "execution_count": 20,
   "metadata": {},
   "outputs": [],
   "source": [
    "# coding=utf-8\n",
    "from collections import deque\n",
    "\n",
    "v = 'abcdefg'\n",
    "graph = {'a': ('b', 'f'),\n",
    "         'b': ('a', 'c', 'g'),\n",
    "         'c': ('b', 'd', 'e', 'g'),\n",
    "         'd': ('c', 'e'),\n",
    "         'e': ('c', 'd', 'g'),\n",
    "         'f': ('a', 'e', 'g'),\n",
    "         'g': ('b', 'c', 'e', 'f')\n",
    "         }\n",
    "edges = dict()\n",
    "trash = []"
   ]
  },
  {
   "cell_type": "code",
   "execution_count": 21,
   "metadata": {},
   "outputs": [
    {
     "name": "stdout",
     "output_type": "stream",
     "text": [
      "\"ab\": 3\n",
      "\"af\": 2\n",
      "\"bc\": 3\n",
      "\"bg\": 6\n",
      "\"cd\": 3\n",
      "\"ce\": 2\n",
      "\"cg\": 1\n",
      "\"de\": 5\n",
      "\"eg\": 3\n",
      "\"fe\": 4\n",
      "\"fg\": 3\n"
     ]
    }
   ],
   "source": [
    "for key, value in graph.items():\n",
    "    for i in range(len(value)):\n",
    "        edge1 = key + value[i]\n",
    "        edge2 = edge1[::-1]\n",
    "        if edge1 not in trash and edge2 not in trash:\n",
    "            edges[edge1] = int(input(f'\"{key}{value[i]}\": '))\n",
    "            edges[edge2] = edges[edge1]\n",
    "            trash.append(edge1)\n",
    "            trash.append(edge2)"
   ]
  },
  {
   "cell_type": "code",
   "execution_count": 118,
   "metadata": {},
   "outputs": [
    {
     "name": "stdout",
     "output_type": "stream",
     "text": [
      "0\n"
     ]
    }
   ],
   "source": [
    "start_v = 'a'\n",
    "distance = 0\n",
    "visited_v = {i: None for i in v}\n",
    "queue = deque([start_v])\n",
    "temp = [0]\n",
    "while queue:\n",
    "    cur_v = queue.popleft()\n",
    "    visited_v[cur_v] = cur_v\n",
    "    for neigh_v in graph[cur_v]:\n",
    "        if visited_v[neigh_v] is None:\n",
    "            queue.append(neigh_v)\n",
    "            temp.append(edges[cur_v+neigh_v])\n",
    "            distance += min(temp)\n",
    "            visited_v[neigh_v] = neigh_v\n",
    "\n",
    "print(distance)\n"
   ]
  },
  {
   "cell_type": "code",
   "execution_count": 119,
   "metadata": {},
   "outputs": [
    {
     "data": {
      "text/plain": [
       "'e'"
      ]
     },
     "execution_count": 119,
     "metadata": {},
     "output_type": "execute_result"
    }
   ],
   "source": [
    "visited_v[neigh_v]"
   ]
  },
  {
   "cell_type": "code",
   "execution_count": 120,
   "metadata": {},
   "outputs": [
    {
     "data": {
      "text/plain": [
       "('c', 'e')"
      ]
     },
     "execution_count": 120,
     "metadata": {},
     "output_type": "execute_result"
    }
   ],
   "source": [
    "graph[cur_v]"
   ]
  },
  {
   "cell_type": "code",
   "execution_count": 121,
   "metadata": {},
   "outputs": [],
   "source": [
    "\n"
   ]
  }
 ],
 "metadata": {
  "kernelspec": {
   "display_name": "Python 3",
   "language": "python",
   "name": "python3"
  },
  "language_info": {
   "codemirror_mode": {
    "name": "ipython",
    "version": 3
   },
   "file_extension": ".py",
   "mimetype": "text/x-python",
   "name": "python",
   "nbconvert_exporter": "python",
   "pygments_lexer": "ipython3",
   "version": "3.7.4"
  }
 },
 "nbformat": 4,
 "nbformat_minor": 2
}
