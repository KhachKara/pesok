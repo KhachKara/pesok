{
 "cells": [
  {
   "cell_type": "code",
   "execution_count": 7,
   "metadata": {},
   "outputs": [],
   "source": [
    "N, M = 7, 11\n",
    "vert = ['A', 'B', 'C', 'D', 'E', 'F', 'G']\n",
    "neighbours = {'A': ('B', 'F'),\n",
    "              'B': ('A', 'C', 'G'),\n",
    "              'C': ('B', 'D', 'E', 'G'),\n",
    "              'D': ('C', 'E'),\n",
    "              'E': ('C', 'D', 'F', 'G'),\n",
    "              'F': ('A', 'E', 'G'),\n",
    "              'G': ('B', 'C', 'E', 'F')}\n",
    "edgesCoast = {'AB': 3, 'BA': 3,\n",
    "              'BC': 3, 'CB': 3,\n",
    "              'CD': 3, 'DC': 3,\n",
    "              'DE': 5, 'ED': 5,\n",
    "              'EF': 4, 'FE': 4,\n",
    "              'FA': 2, 'AF': 2,\n",
    "              'BG': 6, 'GB': 6,\n",
    "              'CG': 1, 'GC': 1,\n",
    "              'EG': 3, 'GE': 3,\n",
    "              'FG': 3, 'GF': 3,\n",
    "              'CE': 2, 'EC': 2\n",
    "              }"
   ]
  },
  {
   "cell_type": "code",
   "execution_count": 13,
   "metadata": {},
   "outputs": [
    {
     "name": "stdout",
     "output_type": "stream",
     "text": [
      "['AF', 'AF', 'AF', 'AF', 'AF', 'AF', 'AF']\n"
     ]
    }
   ],
   "source": [
    "path = []\n",
    "visited =[]\n",
    "startVertex = 'A'\n",
    "z = 0\n",
    "while z < N:\n",
    "    def f_path(v):\n",
    "        path = []\n",
    "        minimum = [999]\n",
    "        mini = 0\n",
    "        for i in neighbours[v]:\n",
    "            if i not in visited:\n",
    "                if edgesCoast[v+i] < min(minimum):\n",
    "                    path = v+i\n",
    "            minimum.append(edgesCoast[v+i])\n",
    "        return path\n",
    "    visited.append(startVertex)\n",
    "    path.append(f_path(startVertex))\n",
    "    startVertex = f_path(startVertex).replace(startVertex, '')\n",
    "    z += 1\n",
    "dist = 0\n",
    "for i in path:\n",
    "    dist += edgesCoast[i]\n",
    "print(path)"
   ]
  },
  {
   "cell_type": "code",
   "execution_count": 11,
   "metadata": {},
   "outputs": [
    {
     "data": {
      "text/plain": [
       "'F'"
      ]
     },
     "execution_count": 11,
     "metadata": {},
     "output_type": "execute_result"
    }
   ],
   "source": [
    "startVertex"
   ]
  },
  {
   "cell_type": "code",
   "execution_count": null,
   "metadata": {},
   "outputs": [],
   "source": []
  }
 ],
 "metadata": {
  "kernelspec": {
   "display_name": "Python 3",
   "language": "python",
   "name": "python3"
  },
  "language_info": {
   "codemirror_mode": {
    "name": "ipython",
    "version": 3
   },
   "file_extension": ".py",
   "mimetype": "text/x-python",
   "name": "python",
   "nbconvert_exporter": "python",
   "pygments_lexer": "ipython3",
   "version": "3.6.8"
  }
 },
 "nbformat": 4,
 "nbformat_minor": 2
}
