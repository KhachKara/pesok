{
 "cells": [
  {
   "cell_type": "code",
   "execution_count": 30,
   "metadata": {},
   "outputs": [],
   "source": [
    "N, M = 7, 11   # количество вершин и ребер\n",
    "vertex = ['A', 'B', 'C', 'D', 'E', 'F', 'G']\n",
    "vertexDict = {i: False for i in vertex}  # вершины не посещены\n",
    "ribsV1 = ['AB', 'BC', 'CD', 'DE', 'EF', 'FA', 'BG', 'CG', 'EG', 'FG', 'CE']  # рёбра\n",
    "ribsV2 = ['BA', 'CB', 'DC', 'ED', 'FE', 'AF', 'GB', 'GC', 'GE', 'GF', 'EC']  # рёбра в обратную сторону\n",
    "ribs = ribsV1 + ribsV2  # все рёбра\n",
    "ribsValue = [3, 3, 3, 5, 4, 2, 6, 1, 3, 3, 2]  # стоимость рёбер\n",
    "ribsZip = tuple(zip(ribs, ribsValue*2))\n",
    "graphValues = {i: tuple([j for j in ribsZip if i == j[0][0]]) for i in vertexDict}\n",
    "distances = 0\n",
    "startVertex = vertex[0]"
   ]
  },
  {
   "cell_type": "code",
   "execution_count": 31,
   "metadata": {},
   "outputs": [],
   "source": [
    "def pathsearch(obj, v):\n",
    "    edge = ''\n",
    "    listMinimum = [999]\n",
    "    nextVertex = ''\n",
    "    for path, value in obj:\n",
    "        if value < min(listMinimum) and vertexDict[v] != True:\n",
    "            edge = path\n",
    "        listMinimum.append(value)\n",
    "\n",
    "    minumum = min(listMinimum)\n",
    "    nextVertex = edge.replace(v, '')\n",
    "    return edge, minumum, nextVertex"
   ]
  },
  {
   "cell_type": "code",
   "execution_count": 29,
   "metadata": {},
   "outputs": [
    {
     "name": "stdout",
     "output_type": "stream",
     "text": [
      "[]\n"
     ]
    }
   ],
   "source": [
    "pathList = []\n",
    "z = 0\n",
    "nextVertex = 'A'\n",
    "while z < N:\n",
    "    if not vertexDict[nextVertex]:\n",
    "        vertexDict[nextVertex] = True\n",
    "        temp = pathsearch(graphValues[nextVertex], nextVertex)\n",
    "        pathList.append(temp[0])\n",
    "        distances += temp[1]\n",
    "        nextVertex = temp[2]\n",
    "    z += 1\n",
    "print(pathList)\n"
   ]
  },
  {
   "cell_type": "code",
   "execution_count": 10,
   "metadata": {},
   "outputs": [
    {
     "data": {
      "text/plain": [
       "('', 0, '')"
      ]
     },
     "execution_count": 10,
     "metadata": {},
     "output_type": "execute_result"
    }
   ],
   "source": [
    "pathsearch(graphValues['C'], 'C')"
   ]
  },
  {
   "cell_type": "code",
   "execution_count": 31,
   "metadata": {},
   "outputs": [
    {
     "data": {
      "text/plain": [
       "{'A': (('AB', 3), ('AF', 2)),\n",
       " 'B': (('BC', 3), ('BG', 6), ('BA', 3)),\n",
       " 'C': (('CD', 3), ('CG', 1), ('CE', 2), ('CB', 3)),\n",
       " 'D': (('DE', 5), ('DC', 3)),\n",
       " 'E': (('EF', 4), ('EG', 3), ('ED', 5), ('EC', 2)),\n",
       " 'F': (('FA', 2), ('FG', 3), ('FE', 4)),\n",
       " 'G': (('GB', 6), ('GC', 1), ('GE', 3), ('GF', 3))}"
      ]
     },
     "execution_count": 31,
     "metadata": {},
     "output_type": "execute_result"
    }
   ],
   "source": [
    "graphValues"
   ]
  },
  {
   "cell_type": "code",
   "execution_count": 32,
   "metadata": {},
   "outputs": [
    {
     "ename": "NameError",
     "evalue": "name 'v' is not defined",
     "output_type": "error",
     "traceback": [
      "\u001b[1;31m---------------------------------------------------------------------------\u001b[0m",
      "\u001b[1;31mNameError\u001b[0m                                 Traceback (most recent call last)",
      "\u001b[1;32m<ipython-input-32-ae9624410122>\u001b[0m in \u001b[0;36m<module>\u001b[1;34m\u001b[0m\n\u001b[1;32m----> 1\u001b[1;33m \u001b[0mvertexDict\u001b[0m\u001b[1;33m[\u001b[0m\u001b[0mv\u001b[0m\u001b[1;33m]\u001b[0m\u001b[1;33m\u001b[0m\u001b[1;33m\u001b[0m\u001b[0m\n\u001b[0m",
      "\u001b[1;31mNameError\u001b[0m: name 'v' is not defined"
     ]
    }
   ],
   "source": [
    "vertexDict[v]"
   ]
  },
  {
   "cell_type": "code",
   "execution_count": 25,
   "metadata": {},
   "outputs": [
    {
     "ename": "NameError",
     "evalue": "name 'value' is not defined",
     "output_type": "error",
     "traceback": [
      "\u001b[1;31m---------------------------------------------------------------------------\u001b[0m",
      "\u001b[1;31mNameError\u001b[0m                                 Traceback (most recent call last)",
      "\u001b[1;32m<ipython-input-25-2b3b7f6975d8>\u001b[0m in \u001b[0;36m<module>\u001b[1;34m\u001b[0m\n\u001b[1;32m----> 1\u001b[1;33m \u001b[0mvalue\u001b[0m\u001b[1;33m\u001b[0m\u001b[1;33m\u001b[0m\u001b[0m\n\u001b[0m",
      "\u001b[1;31mNameError\u001b[0m: name 'value' is not defined"
     ]
    }
   ],
   "source": [
    "value"
   ]
  },
  {
   "cell_type": "code",
   "execution_count": null,
   "metadata": {},
   "outputs": [],
   "source": []
  }
 ],
 "metadata": {
  "kernelspec": {
   "display_name": "Python 3",
   "language": "python",
   "name": "python3"
  },
  "language_info": {
   "codemirror_mode": {
    "name": "ipython",
    "version": 3
   },
   "file_extension": ".py",
   "mimetype": "text/x-python",
   "name": "python",
   "nbconvert_exporter": "python",
   "pygments_lexer": "ipython3",
   "version": "3.6.8"
  }
 },
 "nbformat": 4,
 "nbformat_minor": 2
}
