{
 "cells": [
  {
   "cell_type": "markdown",
   "metadata": {},
   "source": [
    "# Обход  неориентированного графа в ширину"
   ]
  },
  {
   "cell_type": "code",
   "execution_count": null,
   "metadata": {},
   "outputs": [],
   "source": [
    "# Ребра графа\n",
    "'''\n",
    "0 1\n",
    "0 10\n",
    "0 11\n",
    "0 12\n",
    "1 7\n",
    "2 6\n",
    "3 11\n",
    "4 6\n",
    "4 10\n",
    "5 8\n",
    "5 13\n",
    "6 10\n",
    "7 13\n",
    "8 12\n",
    "9 11\n",
    "11 12\n",
    "11 14\n",
    "'''"
   ]
  },
  {
   "cell_type": "code",
   "execution_count": 4,
   "metadata": {},
   "outputs": [
    {
     "name": "stdout",
     "output_type": "stream",
     "text": [
      "15 17\n"
     ]
    }
   ],
   "source": [
    "# 15 вершин 17 рёбер\n",
    "N,M = map(int, input().split())"
   ]
  },
  {
   "cell_type": "code",
   "execution_count": 5,
   "metadata": {},
   "outputs": [
    {
     "name": "stdout",
     "output_type": "stream",
     "text": [
      "0 1\n",
      "0 10\n",
      "0 11\n",
      "0 12\n",
      "1 7\n",
      "2 6\n",
      "3 11\n",
      "4 6\n",
      "4 10\n",
      "5 8\n",
      "5 13\n",
      "6 10\n",
      "7 13\n",
      "8 12\n",
      "9 11\n",
      "11 12\n",
      "11 14\n"
     ]
    }
   ],
   "source": [
    "graph = {i: set() for i in range(N)}\n",
    "for j in range(M):\n",
    "    v1, v2 = map(int, input().split())\n",
    "    graph[v1].add(v2)\n",
    "    graph[v2].add(v1)"
   ]
  },
  {
   "cell_type": "code",
   "execution_count": 60,
   "metadata": {},
   "outputs": [
    {
     "data": {
      "text/plain": [
       "([2, 3, 1, 4, 1, 5, 0, 4, 4, 4, 1, 3, 3, 5, 4],\n",
       " [10, 0, 6, 11, 6, 8, None, 1, 12, 11, 6, 0, 0, 7, 11])"
      ]
     },
     "execution_count": 60,
     "metadata": {},
     "output_type": "execute_result"
    }
   ],
   "source": [
    "from collections import deque\n",
    "distances = [None] * N\n",
    "start_vertex = 6\n",
    "distances[start_vertex] = 0\n",
    "queue = deque([start_vertex])\n",
    "\n",
    "parrents = [None] * N\n",
    "\n",
    "while queue:\n",
    "    cur_v = queue.popleft()\n",
    "    for neigh_v in graph[cur_v]:\n",
    "        if distances[neigh_v] is None:\n",
    "            distances[neigh_v] = distances[cur_v] + 1\n",
    "            parrents[neigh_v] = cur_v\n",
    "            queue.append(neigh_v)\n",
    "distances, parrents"
   ]
  },
  {
   "cell_type": "code",
   "execution_count": 56,
   "metadata": {},
   "outputs": [
    {
     "data": {
      "text/plain": [
       "[0, 11, 9]"
      ]
     },
     "execution_count": 56,
     "metadata": {},
     "output_type": "execute_result"
    }
   ],
   "source": [
    "start_vertex = 2\n",
    "end_vertex = 9\n",
    "parrent = parrents[end_vertex]\n",
    "path = [end_vertex]\n",
    "while not parrent is None:\n",
    "    path.append(parrent)\n",
    "    parrent = parrents[parrent]\n",
    "path[::-1]"
   ]
  },
  {
   "cell_type": "markdown",
   "metadata": {},
   "source": [
    "# Конь"
   ]
  },
  {
   "cell_type": "code",
   "execution_count": 68,
   "metadata": {},
   "outputs": [],
   "source": [
    "letters = 'abcdefgh'\n",
    "numbers = '12345678'\n",
    "\n",
    "graph = dict()\n",
    "\n",
    "for l in letters:\n",
    "    for n in numbers:\n",
    "        graph[l+n] = set()"
   ]
  },
  {
   "cell_type": "code",
   "execution_count": 79,
   "metadata": {},
   "outputs": [],
   "source": [
    "from collections import deque\n",
    "distance = {v: None for v in graph}\n",
    "parrents = {v: None for v in graph}\n",
    "\n",
    "start_vertex = 'a1' \n",
    "end_vertex = 'h8'\n",
    "distance[start_vertex] = 0\n",
    "queue = deque([start_vertex])\n",
    "\n",
    "\n",
    "\n",
    "while queue:\n",
    "    cur_v = queue.popleft()\n",
    "    for neigh_v in graph[cur_v]:\n",
    "        if distance[neigh_v] is None:\n",
    "            distance[neigh_v] = distance[cur_v] + 1\n",
    "            parrents[neigh_v] = cur_v\n",
    "            queue.append(neigh_v)\n",
    "    "
   ]
  },
  {
   "cell_type": "code",
   "execution_count": 80,
   "metadata": {},
   "outputs": [
    {
     "data": {
      "text/plain": [
       "['a1', 'c2', 'e3', 'g2', 'h4', 'g6', 'h8']"
      ]
     },
     "execution_count": 80,
     "metadata": {},
     "output_type": "execute_result"
    }
   ],
   "source": [
    "path = [end_vertex]\n",
    "parrent = parrents[end_vertex]\n",
    "while not parrent is None:\n",
    "    path.append(parrent)\n",
    "    parrent = parrents[parrent]\n",
    "path[::-1]"
   ]
  },
  {
   "cell_type": "code",
   "execution_count": 71,
   "metadata": {},
   "outputs": [],
   "source": [
    "def add_edge(v1, v2):\n",
    "    graph[v1].add(v2)\n",
    "    graph[v2].add(v1)\n",
    "for i in range(8):\n",
    "    for j in range(8):\n",
    "        v1 = letters[i] + numbers[j]\n",
    "        if 0 <= i + 2 < 8 and 0 <= j + 1 < 8:\n",
    "            v2 = letters[i+2] + numbers[j+1]\n",
    "            add_edge(v1, v2)\n",
    "            \n",
    "        if 0 <= i - 2 < 8 and 0 <= j + 1 < 8:\n",
    "            v2 = letters[i-2] + numbers[j+1]\n",
    "            add_edge(v1, v2)\n",
    "            \n",
    "        if 0 <= i + 1 < 8 and 0 <= j + 2 < 8:\n",
    "            v2 = letters[i+1] + numbers[j+2]\n",
    "            add_edge(v1, v2)\n",
    "            \n",
    "        if 0 <= i - 1 < 8 and 0 <= j + 2 < 8:\n",
    "            v2 = letters[i-1] + numbers[j+2]\n",
    "            add_edge(v1, v2)"
   ]
  },
  {
   "cell_type": "code",
   "execution_count": 66,
   "metadata": {},
   "outputs": [
    {
     "data": {
      "text/plain": [
       "{'a1': {'b3', 'c2'},\n",
       " 'a2': {'b4', 'c1', 'c3'},\n",
       " 'a3': {'b1', 'b5', 'c2', 'c4'},\n",
       " 'a4': {'b2', 'b6', 'c3', 'c5'},\n",
       " 'a5': {'b3', 'b7', 'c4', 'c6'},\n",
       " 'a6': {'b4', 'b8', 'c5', 'c7'},\n",
       " 'a7': {'b5', 'c6', 'c8'},\n",
       " 'a8': {'b6', 'c7'},\n",
       " 'b1': {'a3', 'c3', 'd2'},\n",
       " 'b2': {'a4', 'c4', 'd1', 'd3'},\n",
       " 'b3': {'a1', 'a5', 'c1', 'c5', 'd2', 'd4'},\n",
       " 'b4': {'a2', 'a6', 'c2', 'c6', 'd3', 'd5'},\n",
       " 'b5': {'a3', 'a7', 'c3', 'c7', 'd4', 'd6'},\n",
       " 'b6': {'a4', 'a8', 'c4', 'c8', 'd5', 'd7'},\n",
       " 'b7': {'a5', 'c5', 'd6', 'd8'},\n",
       " 'b8': {'a6', 'c6', 'd7'},\n",
       " 'c1': {'a2', 'b3', 'd3', 'e2'},\n",
       " 'c2': {'a1', 'a3', 'b4', 'd4', 'e1', 'e3'},\n",
       " 'c3': {'a2', 'a4', 'b1', 'b5', 'd1', 'd5', 'e2', 'e4'},\n",
       " 'c4': {'a3', 'a5', 'b2', 'b6', 'd2', 'd6', 'e3', 'e5'},\n",
       " 'c5': {'a4', 'a6', 'b3', 'b7', 'd3', 'd7', 'e4', 'e6'},\n",
       " 'c6': {'a5', 'a7', 'b4', 'b8', 'd4', 'd8', 'e5', 'e7'},\n",
       " 'c7': {'a6', 'a8', 'b5', 'd5', 'e6', 'e8'},\n",
       " 'c8': {'a7', 'b6', 'd6', 'e7'},\n",
       " 'd1': {'b2', 'c3', 'e3', 'f2'},\n",
       " 'd2': {'b1', 'b3', 'c4', 'e4', 'f1', 'f3'},\n",
       " 'd3': {'b2', 'b4', 'c1', 'c5', 'e1', 'e5', 'f2', 'f4'},\n",
       " 'd4': {'b3', 'b5', 'c2', 'c6', 'e2', 'e6', 'f3', 'f5'},\n",
       " 'd5': {'b4', 'b6', 'c3', 'c7', 'e3', 'e7', 'f4', 'f6'},\n",
       " 'd6': {'b5', 'b7', 'c4', 'c8', 'e4', 'e8', 'f5', 'f7'},\n",
       " 'd7': {'b6', 'b8', 'c5', 'e5', 'f6', 'f8'},\n",
       " 'd8': {'b7', 'c6', 'e6', 'f7'},\n",
       " 'e1': {'c2', 'd3', 'f3', 'g2'},\n",
       " 'e2': {'c1', 'c3', 'd4', 'f4', 'g1', 'g3'},\n",
       " 'e3': {'c2', 'c4', 'd1', 'd5', 'f1', 'f5', 'g2', 'g4'},\n",
       " 'e4': {'c3', 'c5', 'd2', 'd6', 'f2', 'f6', 'g3', 'g5'},\n",
       " 'e5': {'c4', 'c6', 'd3', 'd7', 'f3', 'f7', 'g4', 'g6'},\n",
       " 'e6': {'c5', 'c7', 'd4', 'd8', 'f4', 'f8', 'g5', 'g7'},\n",
       " 'e7': {'c6', 'c8', 'd5', 'f5', 'g6', 'g8'},\n",
       " 'e8': {'c7', 'd6', 'f6', 'g7'},\n",
       " 'f1': {'d2', 'e3', 'g3', 'h2'},\n",
       " 'f2': {'d1', 'd3', 'e4', 'g4', 'h1', 'h3'},\n",
       " 'f3': {'d2', 'd4', 'e1', 'e5', 'g1', 'g5', 'h2', 'h4'},\n",
       " 'f4': {'d3', 'd5', 'e2', 'e6', 'g2', 'g6', 'h3', 'h5'},\n",
       " 'f5': {'d4', 'd6', 'e3', 'e7', 'g3', 'g7', 'h4', 'h6'},\n",
       " 'f6': {'d5', 'd7', 'e4', 'e8', 'g4', 'g8', 'h5', 'h7'},\n",
       " 'f7': {'d6', 'd8', 'e5', 'g5', 'h6', 'h8'},\n",
       " 'f8': {'d7', 'e6', 'g6', 'h7'},\n",
       " 'g1': {'e2', 'f3', 'h3'},\n",
       " 'g2': {'e1', 'e3', 'f4', 'h4'},\n",
       " 'g3': {'e2', 'e4', 'f1', 'f5', 'h1', 'h5'},\n",
       " 'g4': {'e3', 'e5', 'f2', 'f6', 'h2', 'h6'},\n",
       " 'g5': {'e4', 'e6', 'f3', 'f7', 'h3', 'h7'},\n",
       " 'g6': {'e5', 'e7', 'f4', 'f8', 'h4', 'h8'},\n",
       " 'g7': {'e6', 'e8', 'f5', 'h5'},\n",
       " 'g8': {'e7', 'f6', 'h6'},\n",
       " 'h1': {'f2', 'g3'},\n",
       " 'h2': {'f1', 'f3', 'g4'},\n",
       " 'h3': {'f2', 'f4', 'g1', 'g5'},\n",
       " 'h4': {'f3', 'f5', 'g2', 'g6'},\n",
       " 'h5': {'f4', 'f6', 'g3', 'g7'},\n",
       " 'h6': {'f5', 'f7', 'g4', 'g8'},\n",
       " 'h7': {'f6', 'f8', 'g5'},\n",
       " 'h8': {'f7', 'g6'}}"
      ]
     },
     "execution_count": 66,
     "metadata": {},
     "output_type": "execute_result"
    }
   ],
   "source": [
    "graph"
   ]
  },
  {
   "cell_type": "markdown",
   "metadata": {},
   "source": [
    "# Бонус"
   ]
  },
  {
   "cell_type": "code",
   "execution_count": 173,
   "metadata": {},
   "outputs": [],
   "source": [
    "import requests \n",
    "import time\n",
    "from tqdm import tqdm\n",
    "HOST = 'https://api.vk.com/method/'\n",
    "VERSION = '5.103'\n",
    "access_token = 'd29192ead29192ead2dcd9eedbd2cb7a50dd291d29192ea8a4f8ed3b7823ee139d8ac28'\n",
    "\n",
    "r = requests.get(HOST + 'users.get', params = {'user_ids': '479455908, 39817202, 1, 3',\n",
    "                                             'access_token': access_token,\n",
    "                                             'v': VERSION})"
   ]
  },
  {
   "cell_type": "code",
   "execution_count": 174,
   "metadata": {},
   "outputs": [
    {
     "data": {
      "text/plain": [
       "[{'id': 479455908,\n",
       "  'first_name': 'Tato',\n",
       "  'last_name': 'Karapetyan',\n",
       "  'is_closed': False,\n",
       "  'can_access_closed': True},\n",
       " {'id': 39817202,\n",
       "  'first_name': 'Khachatur',\n",
       "  'last_name': 'Karapetyan',\n",
       "  'is_closed': True,\n",
       "  'can_access_closed': False},\n",
       " {'id': 1,\n",
       "  'first_name': 'Pavel',\n",
       "  'last_name': 'Durov',\n",
       "  'is_closed': False,\n",
       "  'can_access_closed': True},\n",
       " {'id': 3, 'first_name': 'DELETED', 'last_name': '', 'deactivated': 'deleted'}]"
      ]
     },
     "execution_count": 174,
     "metadata": {},
     "output_type": "execute_result"
    }
   ],
   "source": [
    "r.json()['response']"
   ]
  },
  {
   "cell_type": "code",
   "execution_count": 175,
   "metadata": {},
   "outputs": [],
   "source": [
    "def get_friends_list(id_user):\n",
    "    r = requests.get(HOST + 'fiends.get', params = {'user_id': f'{id_user}',\n",
    "                                             'access_token': access_token,\n",
    "                                             'v': VERSION})\n",
    "    if 'response' in r.json():\n",
    "        return r.json()['response']['items']\n",
    "    return []"
   ]
  },
  {
   "cell_type": "code",
   "execution_count": 179,
   "metadata": {},
   "outputs": [
    {
     "data": {
      "text/plain": [
       "{'error': {'error_code': 30,\n",
       "  'error_msg': 'This profile is private',\n",
       "  'request_params': [{'key': 'user_id', 'value': '39817202'},\n",
       "   {'key': 'v', 'value': '5.103'},\n",
       "   {'key': 'method', 'value': 'friends.get'},\n",
       "   {'key': 'oauth', 'value': '1'}]}}"
      ]
     },
     "execution_count": 179,
     "metadata": {},
     "output_type": "execute_result"
    }
   ],
   "source": [
    "id_user = 39817202\n",
    "r = requests.get(HOST + 'friends.get', params = {'user_id': f'{id_user}',\n",
    "                                             'access_token': access_token,\n",
    "                                             'v': VERSION})\n",
    "r.json()"
   ]
  },
  {
   "cell_type": "code",
   "execution_count": 180,
   "metadata": {},
   "outputs": [
    {
     "ename": "IndexError",
     "evalue": "pop from an empty deque",
     "output_type": "error",
     "traceback": [
      "\u001b[1;31m---------------------------------------------------------------------------\u001b[0m",
      "\u001b[1;31mIndexError\u001b[0m                                Traceback (most recent call last)",
      "\u001b[1;32m<ipython-input-180-3363a64649c1>\u001b[0m in \u001b[0;36m<module>\u001b[1;34m\u001b[0m\n\u001b[0;32m      6\u001b[0m \u001b[1;33m\u001b[0m\u001b[0m\n\u001b[0;32m      7\u001b[0m \u001b[1;32mwhile\u001b[0m \u001b[0mid_end\u001b[0m \u001b[1;32mnot\u001b[0m \u001b[1;32min\u001b[0m \u001b[0mdistances\u001b[0m\u001b[1;33m:\u001b[0m\u001b[1;33m\u001b[0m\u001b[1;33m\u001b[0m\u001b[0m\n\u001b[1;32m----> 8\u001b[1;33m     \u001b[0mcur_user\u001b[0m \u001b[1;33m=\u001b[0m \u001b[0mqueue\u001b[0m\u001b[1;33m.\u001b[0m\u001b[0mpopleft\u001b[0m\u001b[1;33m(\u001b[0m\u001b[1;33m)\u001b[0m\u001b[1;33m\u001b[0m\u001b[1;33m\u001b[0m\u001b[0m\n\u001b[0m\u001b[0;32m      9\u001b[0m     \u001b[0mnew_users\u001b[0m \u001b[1;33m=\u001b[0m \u001b[0mget_friends_list\u001b[0m\u001b[1;33m(\u001b[0m\u001b[0mcur_user\u001b[0m\u001b[1;33m)\u001b[0m\u001b[1;33m\u001b[0m\u001b[1;33m\u001b[0m\u001b[0m\n\u001b[0;32m     10\u001b[0m     \u001b[0mtime\u001b[0m\u001b[1;33m.\u001b[0m\u001b[0msleep\u001b[0m\u001b[1;33m(\u001b[0m\u001b[1;36m0.2\u001b[0m\u001b[1;33m)\u001b[0m\u001b[1;33m\u001b[0m\u001b[1;33m\u001b[0m\u001b[0m\n",
      "\u001b[1;31mIndexError\u001b[0m: pop from an empty deque"
     ]
    }
   ],
   "source": [
    "from collections import deque\n",
    "queue = deque(get_friends_list(id_start)) \n",
    "\n",
    "distance = {v: None for v in queue}\n",
    "parrents = {v: None for v in queue}\n",
    "\n",
    "while id_end not in distances:\n",
    "    cur_user = queue.popleft()\n",
    "    new_users = get_friends_list(cur_user)\n",
    "    time.sleep(0.2)\n",
    "    for u in tqdm(new_users):\n",
    "        if u not in distances:\n",
    "            queue.append(u)\n",
    "            distances[u] = distances[cur_user] + 1\n",
    "            parrents[u] = cur_user"
   ]
  },
  {
   "cell_type": "code",
   "execution_count": 181,
   "metadata": {},
   "outputs": [
    {
     "ename": "KeyError",
     "evalue": "479455908",
     "output_type": "error",
     "traceback": [
      "\u001b[1;31m---------------------------------------------------------------------------\u001b[0m",
      "\u001b[1;31mKeyError\u001b[0m                                  Traceback (most recent call last)",
      "\u001b[1;32m<ipython-input-181-92fbf83c71f8>\u001b[0m in \u001b[0;36m<module>\u001b[1;34m\u001b[0m\n\u001b[0;32m      1\u001b[0m \u001b[0mpath\u001b[0m \u001b[1;33m=\u001b[0m \u001b[1;33m[\u001b[0m\u001b[0mid_end\u001b[0m\u001b[1;33m]\u001b[0m\u001b[1;33m\u001b[0m\u001b[1;33m\u001b[0m\u001b[0m\n\u001b[1;32m----> 2\u001b[1;33m \u001b[0mparrent\u001b[0m \u001b[1;33m=\u001b[0m \u001b[0mparrents\u001b[0m\u001b[1;33m[\u001b[0m\u001b[0mid_end\u001b[0m\u001b[1;33m]\u001b[0m\u001b[1;33m\u001b[0m\u001b[1;33m\u001b[0m\u001b[0m\n\u001b[0m\u001b[0;32m      3\u001b[0m \u001b[0mparrents\u001b[0m\u001b[1;33m[\u001b[0m\u001b[0mid_start\u001b[0m\u001b[1;33m]\u001b[0m \u001b[1;33m=\u001b[0m \u001b[1;32mNone\u001b[0m\u001b[1;33m\u001b[0m\u001b[1;33m\u001b[0m\u001b[0m\n\u001b[0;32m      4\u001b[0m \u001b[1;32mwhile\u001b[0m \u001b[1;32mnot\u001b[0m \u001b[0mparrent\u001b[0m \u001b[1;32mis\u001b[0m \u001b[1;32mNone\u001b[0m\u001b[1;33m:\u001b[0m\u001b[1;33m\u001b[0m\u001b[1;33m\u001b[0m\u001b[0m\n\u001b[0;32m      5\u001b[0m     \u001b[0mpath\u001b[0m\u001b[1;33m.\u001b[0m\u001b[0mappend\u001b[0m\u001b[1;33m(\u001b[0m\u001b[0mparrent\u001b[0m\u001b[1;33m)\u001b[0m\u001b[1;33m\u001b[0m\u001b[1;33m\u001b[0m\u001b[0m\n",
      "\u001b[1;31mKeyError\u001b[0m: 479455908"
     ]
    }
   ],
   "source": [
    "path = [id_end]\n",
    "parrent = parrents[id_end]\n",
    "parrents[id_start] = None\n",
    "while not parrent is None:\n",
    "    path.append(parrent)\n",
    "    parrent = parrents[parrent]\n",
    "path[::-1]"
   ]
  }
 ],
 "metadata": {
  "kernelspec": {
   "display_name": "Python 3",
   "language": "python",
   "name": "python3"
  },
  "language_info": {
   "codemirror_mode": {
    "name": "ipython",
    "version": 3
   },
   "file_extension": ".py",
   "mimetype": "text/x-python",
   "name": "python",
   "nbconvert_exporter": "python",
   "pygments_lexer": "ipython3",
   "version": "3.7.3"
  }
 },
 "nbformat": 4,
 "nbformat_minor": 2
}
