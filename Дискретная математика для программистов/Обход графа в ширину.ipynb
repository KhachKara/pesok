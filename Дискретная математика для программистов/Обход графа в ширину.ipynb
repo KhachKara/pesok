{
 "cells": [
  {
   "cell_type": "markdown",
   "metadata": {},
   "source": [
    "# Обход  неориентированного графа в ширину"
   ]
  },
  {
   "cell_type": "code",
   "execution_count": null,
   "metadata": {},
   "outputs": [],
   "source": [
    "# Ребра графа\n",
    "'''\n",
    "0 1\n",
    "0 10\n",
    "0 11\n",
    "0 12\n",
    "1 7\n",
    "2 6\n",
    "3 11\n",
    "4 6\n",
    "4 10\n",
    "5 8\n",
    "5 13\n",
    "6 10\n",
    "7 13\n",
    "8 12\n",
    "9 11\n",
    "11 12\n",
    "11 14\n",
    "'''"
   ]
  },
  {
   "cell_type": "code",
   "execution_count": 4,
   "metadata": {},
   "outputs": [
    {
     "name": "stdout",
     "output_type": "stream",
     "text": [
      "15 17\n"
     ]
    }
   ],
   "source": [
    "# 15 вершин 17 рёбер\n",
    "N,M = map(int, input().split())"
   ]
  },
  {
   "cell_type": "code",
   "execution_count": 5,
   "metadata": {},
   "outputs": [
    {
     "name": "stdout",
     "output_type": "stream",
     "text": [
      "0 1\n",
      "0 10\n",
      "0 11\n",
      "0 12\n",
      "1 7\n",
      "2 6\n",
      "3 11\n",
      "4 6\n",
      "4 10\n",
      "5 8\n",
      "5 13\n",
      "6 10\n",
      "7 13\n",
      "8 12\n",
      "9 11\n",
      "11 12\n",
      "11 14\n"
     ]
    }
   ],
   "source": [
    "graph = {i: set() for i in range(N)}\n",
    "for j in range(M):\n",
    "    v1, v2 = map(int, input().split())\n",
    "    graph[v1].add(v2)\n",
    "    graph[v2].add(v1)"
   ]
  },
  {
   "cell_type": "code",
   "execution_count": 6,
   "metadata": {},
   "outputs": [
    {
     "data": {
      "text/plain": [
       "{0: {1, 10, 11, 12},\n",
       " 1: {0, 7},\n",
       " 2: {6},\n",
       " 3: {11},\n",
       " 4: {6, 10},\n",
       " 5: {8, 13},\n",
       " 6: {2, 4, 10},\n",
       " 7: {1, 13},\n",
       " 8: {5, 12},\n",
       " 9: {11},\n",
       " 10: {0, 4, 6},\n",
       " 11: {0, 3, 9, 12, 14},\n",
       " 12: {0, 8, 11},\n",
       " 13: {5, 7},\n",
       " 14: {11}}"
      ]
     },
     "execution_count": 6,
     "metadata": {},
     "output_type": "execute_result"
    }
   ],
   "source": [
    "graph"
   ]
  },
  {
   "cell_type": "code",
   "execution_count": 15,
   "metadata": {},
   "outputs": [],
   "source": [
    "from collections import deque\n",
    "distances = [None] * N\n",
    "start_vertex = 0\n",
    "distances[start_vertex] = 0\n",
    "queue = deque([start_vertex])\n",
    "while queue:\n",
    "    cur_v = queue.popleft()\n",
    "    for neigh_v in graph[cur_v]:\n",
    "        if distances[neigh_v] is None:\n",
    "            distances[neigh_v] = distances[cur_v] + 1\n",
    "            queue.append(neigh_v)\n",
    "        "
   ]
  },
  {
   "cell_type": "code",
   "execution_count": 16,
   "metadata": {},
   "outputs": [
    {
     "data": {
      "text/plain": [
       "[0, 1, 3, 2, 2, 3, 2, 2, 2, 2, 1, 1, 1, 3, 2]"
      ]
     },
     "execution_count": 16,
     "metadata": {},
     "output_type": "execute_result"
    }
   ],
   "source": [
    "distances"
   ]
  },
  {
   "cell_type": "markdown",
   "metadata": {},
   "source": [
    "# Конь"
   ]
  },
  {
   "cell_type": "code",
   "execution_count": null,
   "metadata": {},
   "outputs": [],
   "source": [
    "letters = 'abcdefgh'\n",
    "numbers = '12345678'\n",
    "\n",
    "graph = dict()\n",
    "\n",
    "for l in letters:\n",
    "    for n in numbers:\n",
    "        graph[l+n] = set()"
   ]
  },
  {
   "cell_type": "code",
   "execution_count": null,
   "metadata": {},
   "outputs": [],
   "source": [
    "from collection import deque\n",
    "distance = {v: None for v in graph}\n",
    "parrents = {v: None for v in graph}\n",
    "\n",
    "start_vertex = 'd4' \n",
    "end_vertex = 'f7'\n",
    "distance[start_vertex] = 0\n",
    "queue = deque([start_vertex])\n",
    "\n",
    "\n",
    "\n",
    "while queue:\n",
    "    cur_v = queue.popleft()\n",
    "    for neigh_v in graph[cur_v]:\n",
    "        if distance[neigh_v] is None:\n",
    "            distance[neigh_v] = distance[cur_v] + 1\n",
    "            parrents[neigh_v] = cur_v\n",
    "            queue.append(neigh_v)\n",
    "    "
   ]
  },
  {
   "cell_type": "code",
   "execution_count": null,
   "metadata": {},
   "outputs": [],
   "source": [
    "path = [end_vertex]\n",
    "parrent = parrents[end_vertex]\n",
    "while not parrent is None:\n",
    "    path.append(parrent)\n",
    "    parrent = parrents[parrent]"
   ]
  },
  {
   "cell_type": "code",
   "execution_count": null,
   "metadata": {},
   "outputs": [],
   "source": [
    "def add_edge(v1, v2):\n",
    "    graph[v1].add(v2)\n",
    "    graph[v2].add(v1)\n",
    "for i in range(8):\n",
    "    for j in range(8):\n",
    "        v1 = letters[i] + numbers[j]\n",
    "        if 0 <= i + 2 < 8 and 0 <= j + 1 < 8:\n",
    "            v2 = letters[i+2] + numbers[j+1]\n",
    "            add_edge(v1, v2)\n",
    "        if 0 <= i - 2 < 8 and 0 <= j + 1 < 8:\n",
    "            v2 = letters[i-2] + numbers[j+1]\n",
    "            add_edge(v1, v2)\n",
    "        if 0 <= i + 1 < 8 and 0 <= j + 2 < 8:\n",
    "            v2 = letters[i+1] + numbers[j+2]\n",
    "            add_edge(v1, v2)\n",
    "        if 0 <= i - 1 < 8 and 0 <= j + 2 < 8:\n",
    "            v2 = letters[i-1] + numbers[j+2]\n",
    "            add_edge(v1, v2)"
   ]
  },
  {
   "cell_type": "code",
   "execution_count": null,
   "metadata": {},
   "outputs": [],
   "source": []
  },
  {
   "cell_type": "code",
   "execution_count": null,
   "metadata": {},
   "outputs": [],
   "source": [
    "graph"
   ]
  },
  {
   "cell_type": "raw",
   "metadata": {},
   "source": []
  }
 ],
 "metadata": {
  "kernelspec": {
   "display_name": "Python 3",
   "language": "python",
   "name": "python3"
  },
  "language_info": {
   "codemirror_mode": {
    "name": "ipython",
    "version": 3
   },
   "file_extension": ".py",
   "mimetype": "text/x-python",
   "name": "python",
   "nbconvert_exporter": "python",
   "pygments_lexer": "ipython3",
   "version": "3.7.3"
  }
 },
 "nbformat": 4,
 "nbformat_minor": 2
}
